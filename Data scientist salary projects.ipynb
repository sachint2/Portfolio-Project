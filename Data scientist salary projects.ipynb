Data Scientists Salary Project
Introduction 
I chose a dataset that focused on the salaries of Data Science employees for this final project. With this research, I want to see if there's a link between greater salaries and criteria like skills, job titles, company names, and employee ratings.
This dataset contains 41 features and 742 observations. Some of the features were average salary, different skills, job titles etc. 
Initial Predictions 
Simply by looking at the dataset, I arrived at the conclusion that people with specific skill sets will be paid more. Another forecast was that higher-rated enterprises will pay a higher average compensation. Furthermore, persons with a professional degree were expected to earn more money.
Research and Analysis
One of the visualizations I created showed us that the top three job titles with the highest average income were director, data scientist, and machine learning engineer. Job titles like data analytics and data analyst, on the other hand, were in the bottom two. In comparison to all of the companies, I determined the average wage of the higher rated companies. In addition, I created a visual representation of the top five organizations that were employing data engineers. The average income for employees with various degrees was compared, as well as the top five regions with greater salaries. Lastly, I wanted to compare three different aspects of the dataset, which was job title, degree compared to 2 top skills set i.e. Python and Sql calculating their average salary and occurrence.
Feature Selection Strategy
I expected incomes to be influenced by diverse skill sets, job titles, and other factors when deciding on the aspects that I believed to be the most influential. I utilized Recursive Feature Elimination to locate possible candidates to test my assumptions. Python, AWS, and SQL were the top three features that influenced salaries, according to our analysis. Python is the best of these three features. In addition, I ran a correlation between these characteristics to check how closely the average pay is linked.
Conclusion
Our goal, based on our study of this dataset, appears to have been met. I was able to uncover some fascinating facts about our employee salary data. To summarize, employees with a Python skill set are more likely to earn a higher salary. Furthermore, the job trend in Data Scientist over the years suggests that there are more career chances currently than in the past. People who work for higher-rated companies are also more likely to get paid more. The relationship between average salary as compared to skill set and degree are volatile which refers to ability to get higher average salary despite missing professional degree or master’s degree.
Shortcomings of the analysis
In the dataset I found that it was missing couple of vital data. For example: years of experience and years in the company was missing. I think it will impact the average salary of the employee. Absence of these factors can be vital as the whole prediction of average salary depends on years of experience. 
Directions for future study
If we were able to add valuables data regarding years of experience in this dataset, prediction regarding average salary and many more other predictions can be more accurate. Also, an exact time stamp dataset is more accurate and helpful for data analysis and data wrangling purposes. This data set was missing timestamp which led to me not being able to make any predictions about how the average salary is going to move forward in future.

Link to Kaggle Dataset and csv file
https://www.kaggle.com/datasets/nikhilbhathi/data-scientist-salary-us-glassdoor?select=data_cleaned_2021.csv



{
 "cells": [
  {
   "cell_type": "code",
   "execution_count": 2,
   "id": "ad57d330",
   "metadata": {},
   "outputs": [
    {
     "name": "stdout",
     "output_type": "stream",
     "text": [
      "['index', 'Job Title', 'Salary Estimate', 'Job Description', 'Rating', 'Company Name', 'Location', 'Headquarters', 'Size', 'Founded', 'Type of ownership', 'Industry', 'Sector', 'Revenue', 'Competitors', 'Hourly', 'Employer provided', 'Lower Salary', 'Upper Salary', 'Avg Salary(K)', 'company_txt', 'Job Location', 'Age', 'Python', 'spark', 'aws', 'excel', 'sql', 'sas', 'keras', 'pytorch', 'scikit', 'tensor', 'hadoop', 'tableau', 'bi', 'flink', 'mongo', 'google_an', 'job_title_sim', 'seniority_by_title', 'Degree']\n"
     ]
    }
   ],
   "source": [
    "import pandas as pd # pandas is used for Linear Algebra\n",
    "import numpy as np #numpy is used for Data Processing\n",
    "import matplotlib.pyplot as plt #matplotlib is used for Visualization\n",
    "import seaborn as sns #seaborn for statistical visualization\n",
    "\n",
    "\n",
    "df = pd.read_csv('data_cleaned_2021.csv')\n",
    "print (df.columns.tolist())"
   ]
  },
  {
   "cell_type": "code",
   "execution_count": 2,
   "id": "4fe1920b",
   "metadata": {
    "scrolled": false
   },
   "outputs": [
    {
     "name": "stdout",
     "output_type": "stream",
     "text": [
      "            index      Rating      Founded      Hourly  Employer provided  \\\n",
      "count  742.000000  742.000000   742.000000  742.000000         742.000000   \n",
      "mean   469.129380    3.618868  1837.154987    0.032345           0.022911   \n",
      "std    279.793117    0.801210   497.183763    0.177034           0.149721   \n",
      "min      0.000000   -1.000000    -1.000000    0.000000           0.000000   \n",
      "25%    221.500000    3.300000  1939.000000    0.000000           0.000000   \n",
      "50%    472.500000    3.700000  1988.000000    0.000000           0.000000   \n",
      "75%    707.750000    4.000000  2007.000000    0.000000           0.000000   \n",
      "max    955.000000    5.000000  2019.000000    1.000000           1.000000   \n",
      "\n",
      "       Lower Salary  Upper Salary  Avg Salary(K)         Age      Python  ...  \\\n",
      "count    742.000000    742.000000     742.000000  742.000000  742.000000  ...   \n",
      "mean      74.754717    128.214286     101.484501   47.524259    0.528302  ...   \n",
      "std       30.945892     45.128650      37.482449   53.839080    0.499535  ...   \n",
      "min       15.000000     16.000000      15.500000   -1.000000    0.000000  ...   \n",
      "25%       52.000000     96.000000      73.500000   12.000000    0.000000  ...   \n",
      "50%       69.500000    124.000000      97.500000   25.000000    1.000000  ...   \n",
      "75%       91.000000    155.000000     122.500000   60.000000    1.000000  ...   \n",
      "max      202.000000    306.000000     254.000000  277.000000    1.000000  ...   \n",
      "\n",
      "            keras     pytorch      scikit      tensor      hadoop     tableau  \\\n",
      "count  742.000000  742.000000  742.000000  742.000000  742.000000  742.000000   \n",
      "mean     0.039084    0.052561    0.072776    0.097035    0.167116    0.199461   \n",
      "std      0.193925    0.223305    0.259944    0.296205    0.373331    0.399865   \n",
      "min      0.000000    0.000000    0.000000    0.000000    0.000000    0.000000   \n",
      "25%      0.000000    0.000000    0.000000    0.000000    0.000000    0.000000   \n",
      "50%      0.000000    0.000000    0.000000    0.000000    0.000000    0.000000   \n",
      "75%      0.000000    0.000000    0.000000    0.000000    0.000000    0.000000   \n",
      "max      1.000000    1.000000    1.000000    1.000000    1.000000    1.000000   \n",
      "\n",
      "               bi       flink       mongo   google_an  \n",
      "count  742.000000  742.000000  742.000000  742.000000  \n",
      "mean     0.075472    0.013477    0.049865    0.018868  \n",
      "std      0.264329    0.115384    0.217813    0.136150  \n",
      "min      0.000000    0.000000    0.000000    0.000000  \n",
      "25%      0.000000    0.000000    0.000000    0.000000  \n",
      "50%      0.000000    0.000000    0.000000    0.000000  \n",
      "75%      0.000000    0.000000    0.000000    0.000000  \n",
      "max      1.000000    1.000000    1.000000    1.000000  \n",
      "\n",
      "[8 rows x 25 columns]\n",
      "<class 'pandas.core.frame.DataFrame'>\n",
      "RangeIndex: 742 entries, 0 to 741\n",
      "Data columns (total 42 columns):\n",
      " #   Column              Non-Null Count  Dtype  \n",
      "---  ------              --------------  -----  \n",
      " 0   index               742 non-null    int64  \n",
      " 1   Job Title           742 non-null    object \n",
      " 2   Salary Estimate     742 non-null    object \n",
      " 3   Job Description     742 non-null    object \n",
      " 4   Rating              742 non-null    float64\n",
      " 5   Company Name        742 non-null    object \n",
      " 6   Location            742 non-null    object \n",
      " 7   Headquarters        742 non-null    object \n",
      " 8   Size                742 non-null    object \n",
      " 9   Founded             742 non-null    int64  \n",
      " 10  Type of ownership   742 non-null    object \n",
      " 11  Industry            742 non-null    object \n",
      " 12  Sector              742 non-null    object \n",
      " 13  Revenue             742 non-null    object \n",
      " 14  Competitors         742 non-null    object \n",
      " 15  Hourly              742 non-null    int64  \n",
      " 16  Employer provided   742 non-null    int64  \n",
      " 17  Lower Salary        742 non-null    int64  \n",
      " 18  Upper Salary        742 non-null    int64  \n",
      " 19  Avg Salary(K)       742 non-null    float64\n",
      " 20  company_txt         742 non-null    object \n",
      " 21  Job Location        742 non-null    object \n",
      " 22  Age                 742 non-null    int64  \n",
      " 23  Python              742 non-null    int64  \n",
      " 24  spark               742 non-null    int64  \n",
      " 25  aws                 742 non-null    int64  \n",
      " 26  excel               742 non-null    int64  \n",
      " 27  sql                 742 non-null    int64  \n",
      " 28  sas                 742 non-null    int64  \n",
      " 29  keras               742 non-null    int64  \n",
      " 30  pytorch             742 non-null    int64  \n",
      " 31  scikit              742 non-null    int64  \n",
      " 32  tensor              742 non-null    int64  \n",
      " 33  hadoop              742 non-null    int64  \n",
      " 34  tableau             742 non-null    int64  \n",
      " 35  bi                  742 non-null    int64  \n",
      " 36  flink               742 non-null    int64  \n",
      " 37  mongo               742 non-null    int64  \n",
      " 38  google_an           742 non-null    int64  \n",
      " 39  job_title_sim       742 non-null    object \n",
      " 40  seniority_by_title  742 non-null    object \n",
      " 41  Degree              742 non-null    object \n",
      "dtypes: float64(2), int64(23), object(17)\n",
      "memory usage: 243.6+ KB\n"
     ]
    }
   ],
   "source": [
    "print (df.describe())\n",
    "df.info()\n"
   ]
  },
  {
   "cell_type": "markdown",
   "id": "8b73131c",
   "metadata": {
    "scrolled": true
   },
   "source": [
    "print(df.columns.tolist())\n",
    "df['Avg Salary(K)'].hist(bins = 20)"
   ]
  },
  {
   "cell_type": "code",
   "execution_count": 3,
   "id": "d2440aab",
   "metadata": {
    "scrolled": true
   },
   "outputs": [
    {
     "data": {
      "text/html": [
       "<div>\n",
       "<style scoped>\n",
       "    .dataframe tbody tr th:only-of-type {\n",
       "        vertical-align: middle;\n",
       "    }\n",
       "\n",
       "    .dataframe tbody tr th {\n",
       "        vertical-align: top;\n",
       "    }\n",
       "\n",
       "    .dataframe thead th {\n",
       "        text-align: right;\n",
       "    }\n",
       "</style>\n",
       "<table border=\"1\" class=\"dataframe\">\n",
       "  <thead>\n",
       "    <tr style=\"text-align: right;\">\n",
       "      <th></th>\n",
       "      <th>index</th>\n",
       "      <th>Job Title</th>\n",
       "      <th>Salary Estimate</th>\n",
       "      <th>Job Description</th>\n",
       "      <th>Rating</th>\n",
       "      <th>Company Name</th>\n",
       "      <th>Location</th>\n",
       "      <th>Headquarters</th>\n",
       "      <th>Size</th>\n",
       "      <th>Founded</th>\n",
       "      <th>...</th>\n",
       "      <th>tensor</th>\n",
       "      <th>hadoop</th>\n",
       "      <th>tableau</th>\n",
       "      <th>bi</th>\n",
       "      <th>flink</th>\n",
       "      <th>mongo</th>\n",
       "      <th>google_an</th>\n",
       "      <th>job_title_sim</th>\n",
       "      <th>seniority_by_title</th>\n",
       "      <th>Degree</th>\n",
       "    </tr>\n",
       "  </thead>\n",
       "  <tbody>\n",
       "    <tr>\n",
       "      <th>0</th>\n",
       "      <td>0</td>\n",
       "      <td>Data Scientist</td>\n",
       "      <td>$53K-$91K (Glassdoor est.)</td>\n",
       "      <td>Data Scientist\\nLocation: Albuquerque, NM\\nEdu...</td>\n",
       "      <td>3.8</td>\n",
       "      <td>Tecolote Research\\n3.8</td>\n",
       "      <td>Albuquerque, NM</td>\n",
       "      <td>Goleta, CA</td>\n",
       "      <td>501 - 1000</td>\n",
       "      <td>1973</td>\n",
       "      <td>...</td>\n",
       "      <td>0</td>\n",
       "      <td>0</td>\n",
       "      <td>1</td>\n",
       "      <td>1</td>\n",
       "      <td>0</td>\n",
       "      <td>0</td>\n",
       "      <td>0</td>\n",
       "      <td>data scientist</td>\n",
       "      <td>na</td>\n",
       "      <td>M</td>\n",
       "    </tr>\n",
       "    <tr>\n",
       "      <th>1</th>\n",
       "      <td>1</td>\n",
       "      <td>Healthcare Data Scientist</td>\n",
       "      <td>$63K-$112K (Glassdoor est.)</td>\n",
       "      <td>What You Will Do:\\n\\nI. General Summary\\n\\nThe...</td>\n",
       "      <td>3.4</td>\n",
       "      <td>University of Maryland Medical System\\n3.4</td>\n",
       "      <td>Linthicum, MD</td>\n",
       "      <td>Baltimore, MD</td>\n",
       "      <td>10000+</td>\n",
       "      <td>1984</td>\n",
       "      <td>...</td>\n",
       "      <td>0</td>\n",
       "      <td>0</td>\n",
       "      <td>0</td>\n",
       "      <td>0</td>\n",
       "      <td>0</td>\n",
       "      <td>0</td>\n",
       "      <td>0</td>\n",
       "      <td>data scientist</td>\n",
       "      <td>na</td>\n",
       "      <td>M</td>\n",
       "    </tr>\n",
       "    <tr>\n",
       "      <th>2</th>\n",
       "      <td>2</td>\n",
       "      <td>Data Scientist</td>\n",
       "      <td>$80K-$90K (Glassdoor est.)</td>\n",
       "      <td>KnowBe4, Inc. is a high growth information sec...</td>\n",
       "      <td>4.8</td>\n",
       "      <td>KnowBe4\\n4.8</td>\n",
       "      <td>Clearwater, FL</td>\n",
       "      <td>Clearwater, FL</td>\n",
       "      <td>501 - 1000</td>\n",
       "      <td>2010</td>\n",
       "      <td>...</td>\n",
       "      <td>0</td>\n",
       "      <td>0</td>\n",
       "      <td>0</td>\n",
       "      <td>0</td>\n",
       "      <td>0</td>\n",
       "      <td>0</td>\n",
       "      <td>0</td>\n",
       "      <td>data scientist</td>\n",
       "      <td>na</td>\n",
       "      <td>M</td>\n",
       "    </tr>\n",
       "    <tr>\n",
       "      <th>3</th>\n",
       "      <td>3</td>\n",
       "      <td>Data Scientist</td>\n",
       "      <td>$56K-$97K (Glassdoor est.)</td>\n",
       "      <td>*Organization and Job ID**\\nJob ID: 310709\\n\\n...</td>\n",
       "      <td>3.8</td>\n",
       "      <td>PNNL\\n3.8</td>\n",
       "      <td>Richland, WA</td>\n",
       "      <td>Richland, WA</td>\n",
       "      <td>1001 - 5000</td>\n",
       "      <td>1965</td>\n",
       "      <td>...</td>\n",
       "      <td>0</td>\n",
       "      <td>0</td>\n",
       "      <td>0</td>\n",
       "      <td>0</td>\n",
       "      <td>0</td>\n",
       "      <td>0</td>\n",
       "      <td>0</td>\n",
       "      <td>data scientist</td>\n",
       "      <td>na</td>\n",
       "      <td>na</td>\n",
       "    </tr>\n",
       "    <tr>\n",
       "      <th>4</th>\n",
       "      <td>4</td>\n",
       "      <td>Data Scientist</td>\n",
       "      <td>$86K-$143K (Glassdoor est.)</td>\n",
       "      <td>Data Scientist\\nAffinity Solutions / Marketing...</td>\n",
       "      <td>2.9</td>\n",
       "      <td>Affinity Solutions\\n2.9</td>\n",
       "      <td>New York, NY</td>\n",
       "      <td>New York, NY</td>\n",
       "      <td>51 - 200</td>\n",
       "      <td>1998</td>\n",
       "      <td>...</td>\n",
       "      <td>0</td>\n",
       "      <td>0</td>\n",
       "      <td>0</td>\n",
       "      <td>0</td>\n",
       "      <td>0</td>\n",
       "      <td>0</td>\n",
       "      <td>0</td>\n",
       "      <td>data scientist</td>\n",
       "      <td>na</td>\n",
       "      <td>na</td>\n",
       "    </tr>\n",
       "    <tr>\n",
       "      <th>...</th>\n",
       "      <td>...</td>\n",
       "      <td>...</td>\n",
       "      <td>...</td>\n",
       "      <td>...</td>\n",
       "      <td>...</td>\n",
       "      <td>...</td>\n",
       "      <td>...</td>\n",
       "      <td>...</td>\n",
       "      <td>...</td>\n",
       "      <td>...</td>\n",
       "      <td>...</td>\n",
       "      <td>...</td>\n",
       "      <td>...</td>\n",
       "      <td>...</td>\n",
       "      <td>...</td>\n",
       "      <td>...</td>\n",
       "      <td>...</td>\n",
       "      <td>...</td>\n",
       "      <td>...</td>\n",
       "      <td>...</td>\n",
       "      <td>...</td>\n",
       "    </tr>\n",
       "    <tr>\n",
       "      <th>737</th>\n",
       "      <td>950</td>\n",
       "      <td>Sr Scientist, Immuno-Oncology - Oncology</td>\n",
       "      <td>$58K-$111K (Glassdoor est.)</td>\n",
       "      <td>Site Name: USA - Massachusetts - Cambridge\\nPo...</td>\n",
       "      <td>3.9</td>\n",
       "      <td>GSK\\n3.9</td>\n",
       "      <td>Cambridge, MA</td>\n",
       "      <td>Brentford, United Kingdom</td>\n",
       "      <td>10000+</td>\n",
       "      <td>1830</td>\n",
       "      <td>...</td>\n",
       "      <td>0</td>\n",
       "      <td>0</td>\n",
       "      <td>0</td>\n",
       "      <td>0</td>\n",
       "      <td>0</td>\n",
       "      <td>0</td>\n",
       "      <td>0</td>\n",
       "      <td>other scientist</td>\n",
       "      <td>sr</td>\n",
       "      <td>M</td>\n",
       "    </tr>\n",
       "    <tr>\n",
       "      <th>738</th>\n",
       "      <td>951</td>\n",
       "      <td>Senior Data Engineer</td>\n",
       "      <td>$72K-$133K (Glassdoor est.)</td>\n",
       "      <td>THE CHALLENGE\\nEventbrite has a world-class da...</td>\n",
       "      <td>4.4</td>\n",
       "      <td>Eventbrite\\n4.4</td>\n",
       "      <td>Nashville, TN</td>\n",
       "      <td>San Francisco, CA</td>\n",
       "      <td>1001 - 5000</td>\n",
       "      <td>2006</td>\n",
       "      <td>...</td>\n",
       "      <td>0</td>\n",
       "      <td>1</td>\n",
       "      <td>0</td>\n",
       "      <td>0</td>\n",
       "      <td>0</td>\n",
       "      <td>0</td>\n",
       "      <td>0</td>\n",
       "      <td>data engineer</td>\n",
       "      <td>sr</td>\n",
       "      <td>na</td>\n",
       "    </tr>\n",
       "    <tr>\n",
       "      <th>739</th>\n",
       "      <td>952</td>\n",
       "      <td>Project Scientist - Auton Lab, Robotics Institute</td>\n",
       "      <td>$56K-$91K (Glassdoor est.)</td>\n",
       "      <td>The Auton Lab at Carnegie Mellon University is...</td>\n",
       "      <td>2.6</td>\n",
       "      <td>Software Engineering Institute\\n2.6</td>\n",
       "      <td>Pittsburgh, PA</td>\n",
       "      <td>Pittsburgh, PA</td>\n",
       "      <td>501 - 1000</td>\n",
       "      <td>1984</td>\n",
       "      <td>...</td>\n",
       "      <td>0</td>\n",
       "      <td>0</td>\n",
       "      <td>0</td>\n",
       "      <td>0</td>\n",
       "      <td>0</td>\n",
       "      <td>0</td>\n",
       "      <td>0</td>\n",
       "      <td>other scientist</td>\n",
       "      <td>na</td>\n",
       "      <td>P</td>\n",
       "    </tr>\n",
       "    <tr>\n",
       "      <th>740</th>\n",
       "      <td>953</td>\n",
       "      <td>Data Science Manager</td>\n",
       "      <td>$95K-$160K (Glassdoor est.)</td>\n",
       "      <td>Data Science ManagerResponsibilities:\\n\\nOvers...</td>\n",
       "      <td>3.2</td>\n",
       "      <td>Numeric, LLC\\n3.2</td>\n",
       "      <td>Allentown, PA</td>\n",
       "      <td>Chadds Ford, PA</td>\n",
       "      <td>1 - 50</td>\n",
       "      <td>-1</td>\n",
       "      <td>...</td>\n",
       "      <td>0</td>\n",
       "      <td>0</td>\n",
       "      <td>0</td>\n",
       "      <td>0</td>\n",
       "      <td>0</td>\n",
       "      <td>0</td>\n",
       "      <td>0</td>\n",
       "      <td>data scientist</td>\n",
       "      <td>na</td>\n",
       "      <td>na</td>\n",
       "    </tr>\n",
       "    <tr>\n",
       "      <th>741</th>\n",
       "      <td>955</td>\n",
       "      <td>Research Scientist – Security and Privacy</td>\n",
       "      <td>$61K-$126K (Glassdoor est.)</td>\n",
       "      <td>Returning Candidate? Log back in to the Career...</td>\n",
       "      <td>3.6</td>\n",
       "      <td>Riverside Research Institute\\n3.6</td>\n",
       "      <td>Beavercreek, OH</td>\n",
       "      <td>Arlington, VA</td>\n",
       "      <td>501 - 1000</td>\n",
       "      <td>1967</td>\n",
       "      <td>...</td>\n",
       "      <td>0</td>\n",
       "      <td>0</td>\n",
       "      <td>0</td>\n",
       "      <td>0</td>\n",
       "      <td>0</td>\n",
       "      <td>0</td>\n",
       "      <td>0</td>\n",
       "      <td>other scientist</td>\n",
       "      <td>na</td>\n",
       "      <td>M</td>\n",
       "    </tr>\n",
       "  </tbody>\n",
       "</table>\n",
       "<p>742 rows × 42 columns</p>\n",
       "</div>"
      ],
      "text/plain": [
       "     index                                          Job Title  \\\n",
       "0        0                                     Data Scientist   \n",
       "1        1                          Healthcare Data Scientist   \n",
       "2        2                                     Data Scientist   \n",
       "3        3                                     Data Scientist   \n",
       "4        4                                     Data Scientist   \n",
       "..     ...                                                ...   \n",
       "737    950           Sr Scientist, Immuno-Oncology - Oncology   \n",
       "738    951                               Senior Data Engineer   \n",
       "739    952  Project Scientist - Auton Lab, Robotics Institute   \n",
       "740    953                               Data Science Manager   \n",
       "741    955          Research Scientist – Security and Privacy   \n",
       "\n",
       "                 Salary Estimate  \\\n",
       "0     $53K-$91K (Glassdoor est.)   \n",
       "1    $63K-$112K (Glassdoor est.)   \n",
       "2     $80K-$90K (Glassdoor est.)   \n",
       "3     $56K-$97K (Glassdoor est.)   \n",
       "4    $86K-$143K (Glassdoor est.)   \n",
       "..                           ...   \n",
       "737  $58K-$111K (Glassdoor est.)   \n",
       "738  $72K-$133K (Glassdoor est.)   \n",
       "739   $56K-$91K (Glassdoor est.)   \n",
       "740  $95K-$160K (Glassdoor est.)   \n",
       "741  $61K-$126K (Glassdoor est.)   \n",
       "\n",
       "                                       Job Description  Rating  \\\n",
       "0    Data Scientist\\nLocation: Albuquerque, NM\\nEdu...     3.8   \n",
       "1    What You Will Do:\\n\\nI. General Summary\\n\\nThe...     3.4   \n",
       "2    KnowBe4, Inc. is a high growth information sec...     4.8   \n",
       "3    *Organization and Job ID**\\nJob ID: 310709\\n\\n...     3.8   \n",
       "4    Data Scientist\\nAffinity Solutions / Marketing...     2.9   \n",
       "..                                                 ...     ...   \n",
       "737  Site Name: USA - Massachusetts - Cambridge\\nPo...     3.9   \n",
       "738  THE CHALLENGE\\nEventbrite has a world-class da...     4.4   \n",
       "739  The Auton Lab at Carnegie Mellon University is...     2.6   \n",
       "740  Data Science ManagerResponsibilities:\\n\\nOvers...     3.2   \n",
       "741  Returning Candidate? Log back in to the Career...     3.6   \n",
       "\n",
       "                                   Company Name         Location  \\\n",
       "0                        Tecolote Research\\n3.8  Albuquerque, NM   \n",
       "1    University of Maryland Medical System\\n3.4    Linthicum, MD   \n",
       "2                                  KnowBe4\\n4.8   Clearwater, FL   \n",
       "3                                     PNNL\\n3.8     Richland, WA   \n",
       "4                       Affinity Solutions\\n2.9     New York, NY   \n",
       "..                                          ...              ...   \n",
       "737                                    GSK\\n3.9    Cambridge, MA   \n",
       "738                             Eventbrite\\n4.4    Nashville, TN   \n",
       "739         Software Engineering Institute\\n2.6   Pittsburgh, PA   \n",
       "740                           Numeric, LLC\\n3.2    Allentown, PA   \n",
       "741           Riverside Research Institute\\n3.6  Beavercreek, OH   \n",
       "\n",
       "                  Headquarters          Size  Founded  ... tensor hadoop  \\\n",
       "0                   Goleta, CA   501 - 1000      1973  ...      0      0   \n",
       "1                Baltimore, MD       10000+      1984  ...      0      0   \n",
       "2               Clearwater, FL   501 - 1000      2010  ...      0      0   \n",
       "3                 Richland, WA  1001 - 5000      1965  ...      0      0   \n",
       "4                 New York, NY     51 - 200      1998  ...      0      0   \n",
       "..                         ...           ...      ...  ...    ...    ...   \n",
       "737  Brentford, United Kingdom       10000+      1830  ...      0      0   \n",
       "738          San Francisco, CA  1001 - 5000      2006  ...      0      1   \n",
       "739             Pittsburgh, PA   501 - 1000      1984  ...      0      0   \n",
       "740            Chadds Ford, PA       1 - 50        -1  ...      0      0   \n",
       "741              Arlington, VA   501 - 1000      1967  ...      0      0   \n",
       "\n",
       "    tableau bi flink  mongo  google_an    job_title_sim  seniority_by_title  \\\n",
       "0         1  1     0      0          0   data scientist                  na   \n",
       "1         0  0     0      0          0   data scientist                  na   \n",
       "2         0  0     0      0          0   data scientist                  na   \n",
       "3         0  0     0      0          0   data scientist                  na   \n",
       "4         0  0     0      0          0   data scientist                  na   \n",
       "..      ... ..   ...    ...        ...              ...                 ...   \n",
       "737       0  0     0      0          0  other scientist                  sr   \n",
       "738       0  0     0      0          0    data engineer                  sr   \n",
       "739       0  0     0      0          0  other scientist                  na   \n",
       "740       0  0     0      0          0   data scientist                  na   \n",
       "741       0  0     0      0          0  other scientist                  na   \n",
       "\n",
       "     Degree  \n",
       "0         M  \n",
       "1         M  \n",
       "2         M  \n",
       "3        na  \n",
       "4        na  \n",
       "..      ...  \n",
       "737       M  \n",
       "738      na  \n",
       "739       P  \n",
       "740      na  \n",
       "741       M  \n",
       "\n",
       "[742 rows x 42 columns]"
      ]
     },
     "execution_count": 3,
     "metadata": {},
     "output_type": "execute_result"
    }
   ],
   "source": [
    "df.head(742)"
   ]
  },
  {
   "cell_type": "markdown",
   "id": "f80ffbf7",
   "metadata": {},
   "source": [
    "Showing the job title with their average salary on the barplot"
   ]
  },
  {
   "cell_type": "code",
   "execution_count": 21,
   "id": "d639c6ff",
   "metadata": {},
   "outputs": [
    {
     "name": "stdout",
     "output_type": "stream",
     "text": [
      "0       72.0\n",
      "1       87.5\n",
      "2       85.0\n",
      "3       76.5\n",
      "4      114.5\n",
      "       ...  \n",
      "737     84.5\n",
      "738    102.5\n",
      "739     73.5\n",
      "740    127.5\n",
      "741     93.5\n",
      "Name: Avg Salary(K), Length: 742, dtype: float64\n",
      "                                Lower Salary  Upper Salary  Avg Salary(K)\n",
      "job_title_sim                                                            \n",
      "Data scientist project manager     50.187500     96.250000      73.218750\n",
      "analyst                            47.089109     85.138614      66.113861\n",
      "data analitics                     55.750000     82.750000      69.250000\n",
      "data engineer                      76.151261    134.655462     105.403361\n",
      "data modeler                       56.400000     98.600000      77.500000\n",
      "data scientist                     90.108626    146.479233     118.293930\n",
      "director                           94.800000    166.800000     130.800000\n",
      "machine learning engineer          90.363636    162.500000     126.431818\n",
      "na                                 64.600000    118.300000      91.450000\n",
      "other scientist                    61.587413    114.524476      88.055944\n"
     ]
    },
    {
     "data": {
      "text/plain": [
       "<AxesSubplot:title={'center':'Job Title Vs Average Salary'}, xlabel='job_title_sim'>"
      ]
     },
     "execution_count": 21,
     "metadata": {},
     "output_type": "execute_result"
    },
    {
     "data": {
      "image/png": "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\n",
      "text/plain": [
       "<Figure size 432x288 with 1 Axes>"
      ]
     },
     "metadata": {
      "needs_background": "light"
     },
     "output_type": "display_data"
    }
   ],
   "source": [
    "salary_labels = ['Lower Salary', 'Upper Salary', 'Avg Salary(K)']\n",
    "salary_by_title = df.groupby('job_title_sim')[salary_labels].mean()\n",
    "print(salary_by_title)\n",
    "salary_by_title.plot.bar(title= \"Job Title Vs Average Salary\")\n"
   ]
  },
  {
   "cell_type": "markdown",
   "id": "3c199acf",
   "metadata": {},
   "source": [
    "Trying to see the average salary of higher rated companies and the average salary of all companies."
   ]
  },
  {
   "cell_type": "code",
   "execution_count": 53,
   "id": "14cb5c45",
   "metadata": {
    "scrolled": true
   },
   "outputs": [
    {
     "name": "stdout",
     "output_type": "stream",
     "text": [
      "                      job_title_sim               Salary Estimate  \\\n",
      "2                    data scientist    $80K-$90K (Glassdoor est.)   \n",
      "6                    data scientist    $54K-$93K (Glassdoor est.)   \n",
      "9                    data scientist  $120K-$160K (Glassdoor est.)   \n",
      "11                   data scientist   $64K-$106K (Glassdoor est.)   \n",
      "13                          analyst    $46K-$85K (Glassdoor est.)   \n",
      "..                              ...                           ...   \n",
      "707                  data scientist  $108K-$171K (Glassdoor est.)   \n",
      "718                   data engineer   $87K-$158K (Glassdoor est.)   \n",
      "727  Data scientist project manager    $45K-$78K (Glassdoor est.)   \n",
      "732       machine learning engineer   $80K-$142K (Glassdoor est.)   \n",
      "738                   data engineer   $72K-$133K (Glassdoor est.)   \n",
      "\n",
      "                Company Name  Rating  \n",
      "2               KnowBe4\\n4.8     4.8  \n",
      "6    ClearOne Advantage\\n4.1     4.1  \n",
      "9              <intent>\\n4.6     4.6  \n",
      "11              ManTech\\n4.1     4.1  \n",
      "13               Yesler\\n4.1     4.1  \n",
      "..                       ...     ...  \n",
      "707           MathWorks\\n4.4     4.4  \n",
      "718    Moser Consulting\\n4.5     4.5  \n",
      "727               HOVER\\n4.8     4.8  \n",
      "732    CK-12 Foundation\\n4.1     4.1  \n",
      "738          Eventbrite\\n4.4     4.4  \n",
      "\n",
      "[172 rows x 4 columns]\n",
      "Average Salary of Higher Rated Companies: 105.24127906976744\n",
      "Average Salary of All Companies 101.4845013477089\n"
     ]
    }
   ],
   "source": [
    "higherrating = df[df.Rating > 4.0]\n",
    "print(higherrating[['job_title_sim', 'Salary Estimate', 'Company Name', 'Rating']])\n",
    "print('Average Salary of Higher Rated Companies:', higherrating['Avg Salary(K)'].mean())\n",
    "print('Average Salary of All Companies:', df['Avg Salary(K)'].mean())"
   ]
  },
  {
   "cell_type": "markdown",
   "id": "d294448a",
   "metadata": {},
   "source": [
    "Comparing Data Scientists market needs compared to other job titles"
   ]
  },
  {
   "cell_type": "code",
   "execution_count": 5,
   "id": "0fdeaf72",
   "metadata": {},
   "outputs": [
    {
     "data": {
      "text/plain": [
       "<BarContainer object of 10 artists>"
      ]
     },
     "execution_count": 5,
     "metadata": {},
     "output_type": "execute_result"
    },
    {
     "data": {
      "image/png": "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\n",
      "text/plain": [
       "<Figure size 432x288 with 1 Axes>"
      ]
     },
     "metadata": {
      "needs_background": "light"
     },
     "output_type": "display_data"
    }
   ],
   "source": [
    "plt.barh( df.job_title_sim.value_counts().index,df.job_title_sim.value_counts().values)"
   ]
  },
  {
   "cell_type": "markdown",
   "id": "f5fe5fe7",
   "metadata": {},
   "source": [
    "Top 10 companies that are hiring data scientists"
   ]
  },
  {
   "cell_type": "code",
   "execution_count": 6,
   "id": "743b4ad3",
   "metadata": {},
   "outputs": [],
   "source": [
    "df_datascientists_specific = df[df.job_title_sim.str.contains('scientist')]"
   ]
  },
  {
   "cell_type": "code",
   "execution_count": 7,
   "id": "552f68aa",
   "metadata": {},
   "outputs": [
    {
     "data": {
      "text/plain": [
       "data scientist                    313\n",
       "other scientist                   143\n",
       "Data scientist project manager     16\n",
       "Name: job_title_sim, dtype: int64"
      ]
     },
     "execution_count": 7,
     "metadata": {},
     "output_type": "execute_result"
    }
   ],
   "source": [
    "df_datascientists_specific.job_title_sim.value_counts()"
   ]
  },
  {
   "cell_type": "code",
   "execution_count": 10,
   "id": "90e9d63f",
   "metadata": {},
   "outputs": [
    {
     "data": {
      "text/plain": [
       "<BarContainer object of 10 artists>"
      ]
     },
     "execution_count": 10,
     "metadata": {},
     "output_type": "execute_result"
    },
    {
     "data": {
      "image/png": "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\n",
      "text/plain": [
       "<Figure size 432x288 with 1 Axes>"
      ]
     },
     "metadata": {
      "needs_background": "light"
     },
     "output_type": "display_data"
    }
   ],
   "source": [
    "plt.barh(df_datascientists_specific['Company Name'].value_counts().index[:10] , df_datascientists_specific['Company Name'].value_counts().values[:10])"
   ]
  },
  {
   "cell_type": "code",
   "execution_count": 11,
   "id": "469b675a",
   "metadata": {},
   "outputs": [
    {
     "data": {
      "text/plain": [
       "Reynolds American\\n3.1           14\n",
       "PNNL\\n3.8                        10\n",
       "Takeda Pharmaceuticals\\n3.7      10\n",
       "AstraZeneca\\n3.9                  9\n",
       "MITRE\\n3.2                        8\n",
       "                                 ..\n",
       "Full Potential Solutions\\n3.8     1\n",
       "Accuride International\\n3.6       1\n",
       "Alliance Source Testing\\n4.0      1\n",
       "The E.W. Scripps Company\\n3.5     1\n",
       "23andMe\\n4.0                      1\n",
       "Name: Company Name, Length: 217, dtype: int64"
      ]
     },
     "execution_count": 11,
     "metadata": {},
     "output_type": "execute_result"
    }
   ],
   "source": [
    "df_datascientists_specific['Company Name'].value_counts()"
   ]
  },
  {
   "cell_type": "markdown",
   "id": "3b20d473",
   "metadata": {},
   "source": [
    "Which location requires data scientists the most "
   ]
  },
  {
   "cell_type": "code",
   "execution_count": 12,
   "id": "14c03a9e",
   "metadata": {},
   "outputs": [
    {
     "data": {
      "text/plain": [
       "<BarContainer object of 10 artists>"
      ]
     },
     "execution_count": 12,
     "metadata": {},
     "output_type": "execute_result"
    },
    {
     "data": {
      "image/png": "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\n",
      "text/plain": [
       "<Figure size 432x288 with 1 Axes>"
      ]
     },
     "metadata": {
      "needs_background": "light"
     },
     "output_type": "display_data"
    }
   ],
   "source": [
    "plt.barh(df_datascientists_specific.Location.value_counts().index[:10] ,df_datascientists_specific.Location.value_counts().values[:10] )"
   ]
  },
  {
   "cell_type": "code",
   "execution_count": 13,
   "id": "a1c2d283",
   "metadata": {
    "scrolled": true
   },
   "outputs": [
    {
     "data": {
      "text/plain": [
       "Cambridge, MA        38\n",
       "New York, NY         34\n",
       "San Francisco, CA    26\n",
       "Boston, MA           18\n",
       "Chicago, IL          18\n",
       "                     ..\n",
       "Allendale, NJ         1\n",
       "Houston, TX           1\n",
       "Woburn, MA            1\n",
       "Southfield, MI        1\n",
       "Olympia, WA           1\n",
       "Name: Location, Length: 139, dtype: int64"
      ]
     },
     "execution_count": 13,
     "metadata": {},
     "output_type": "execute_result"
    }
   ],
   "source": [
    "df_datascientists_specific.Location.value_counts()"
   ]
  },
  {
   "cell_type": "markdown",
   "id": "3f682586",
   "metadata": {},
   "source": [
    "Salary Analysis- Comparing the salary distribution of jobs requiring for python vs all other jobs "
   ]
  },
  {
   "cell_type": "code",
   "execution_count": 15,
   "id": "c842e1c5",
   "metadata": {},
   "outputs": [
    {
     "data": {
      "text/html": [
       "<div>\n",
       "<style scoped>\n",
       "    .dataframe tbody tr th:only-of-type {\n",
       "        vertical-align: middle;\n",
       "    }\n",
       "\n",
       "    .dataframe tbody tr th {\n",
       "        vertical-align: top;\n",
       "    }\n",
       "\n",
       "    .dataframe thead th {\n",
       "        text-align: right;\n",
       "    }\n",
       "</style>\n",
       "<table border=\"1\" class=\"dataframe\">\n",
       "  <thead>\n",
       "    <tr style=\"text-align: right;\">\n",
       "      <th></th>\n",
       "      <th>Avg Salary(K)</th>\n",
       "      <th>Python</th>\n",
       "    </tr>\n",
       "  </thead>\n",
       "  <tbody>\n",
       "    <tr>\n",
       "      <th>0</th>\n",
       "      <td>72.0</td>\n",
       "      <td>1</td>\n",
       "    </tr>\n",
       "    <tr>\n",
       "      <th>1</th>\n",
       "      <td>87.5</td>\n",
       "      <td>1</td>\n",
       "    </tr>\n",
       "    <tr>\n",
       "      <th>2</th>\n",
       "      <td>85.0</td>\n",
       "      <td>1</td>\n",
       "    </tr>\n",
       "    <tr>\n",
       "      <th>3</th>\n",
       "      <td>76.5</td>\n",
       "      <td>1</td>\n",
       "    </tr>\n",
       "    <tr>\n",
       "      <th>4</th>\n",
       "      <td>114.5</td>\n",
       "      <td>1</td>\n",
       "    </tr>\n",
       "    <tr>\n",
       "      <th>...</th>\n",
       "      <td>...</td>\n",
       "      <td>...</td>\n",
       "    </tr>\n",
       "    <tr>\n",
       "      <th>732</th>\n",
       "      <td>111.0</td>\n",
       "      <td>1</td>\n",
       "    </tr>\n",
       "    <tr>\n",
       "      <th>733</th>\n",
       "      <td>138.5</td>\n",
       "      <td>1</td>\n",
       "    </tr>\n",
       "    <tr>\n",
       "      <th>735</th>\n",
       "      <td>87.5</td>\n",
       "      <td>1</td>\n",
       "    </tr>\n",
       "    <tr>\n",
       "      <th>738</th>\n",
       "      <td>102.5</td>\n",
       "      <td>1</td>\n",
       "    </tr>\n",
       "    <tr>\n",
       "      <th>741</th>\n",
       "      <td>93.5</td>\n",
       "      <td>1</td>\n",
       "    </tr>\n",
       "  </tbody>\n",
       "</table>\n",
       "<p>392 rows × 2 columns</p>\n",
       "</div>"
      ],
      "text/plain": [
       "     Avg Salary(K)  Python\n",
       "0             72.0       1\n",
       "1             87.5       1\n",
       "2             85.0       1\n",
       "3             76.5       1\n",
       "4            114.5       1\n",
       "..             ...     ...\n",
       "732          111.0       1\n",
       "733          138.5       1\n",
       "735           87.5       1\n",
       "738          102.5       1\n",
       "741           93.5       1\n",
       "\n",
       "[392 rows x 2 columns]"
      ]
     },
     "execution_count": 15,
     "metadata": {},
     "output_type": "execute_result"
    }
   ],
   "source": [
    "df_salary = df.copy()\n",
    "df_salary = df_salary[['Avg Salary(K)', 'Python']][df_salary['Python'] == 1]\n",
    "df_salary"
   ]
  },
  {
   "cell_type": "code",
   "execution_count": 17,
   "id": "0c67999a",
   "metadata": {},
   "outputs": [
    {
     "data": {
      "image/png": "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\n",
      "text/plain": [
       "<Figure size 648x432 with 1 Axes>"
      ]
     },
     "metadata": {
      "needs_background": "light"
     },
     "output_type": "display_data"
    }
   ],
   "source": [
    "plt.figure(figsize=(9, 6))\n",
    "plt.hist(df['Avg Salary(K)'], color='pink')\n",
    "plt.hist(df_salary['Avg Salary(K)'], alpha=0.7, color='yellow')\n",
    "plt.title('Comparison of salary (Python)')\n",
    "plt.ylabel('Frequency')\n",
    "plt.xlabel('Avg Salary')\n",
    "plt.show()"
   ]
  },
  {
   "cell_type": "markdown",
   "id": "5b65b2ab",
   "metadata": {},
   "source": [
    "Top 5 industries with maximum number of data science related job postings "
   ]
  },
  {
   "cell_type": "code",
   "execution_count": 18,
   "id": "4561bb71",
   "metadata": {},
   "outputs": [
    {
     "data": {
      "text/plain": [
       "60"
      ]
     },
     "execution_count": 18,
     "metadata": {},
     "output_type": "execute_result"
    }
   ],
   "source": [
    "df[\"Industry\"].nunique()"
   ]
  },
  {
   "cell_type": "code",
   "execution_count": 22,
   "id": "be50f98c",
   "metadata": {
    "scrolled": false
   },
   "outputs": [
    {
     "data": {
      "image/png": "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\n",
      "text/plain": [
       "<Figure size 432x288 with 1 Axes>"
      ]
     },
     "metadata": {},
     "output_type": "display_data"
    }
   ],
   "source": [
    "my_explode=(0,0.1,0.1,0.1,0.1)\n",
    "labels= [x for x in df[\"Industry\"].value_counts().sort_values(ascending=False)[0:5].index] \n",
    "patches,ax, text= plt.pie(df[\"Industry\"].value_counts().sort_values(ascending=False)[0:5],autopct='%1.1f%%',explode=my_explode,shadow=True,startangle=310)\n",
    "plt.title('\\n Top 5 Industries with Most Number of Data Science Related Jobs \\n', size=20, color='black')\n",
    "plt.legend(patches, labels, loc=\"best\")\n",
    "plt.axis('equal')\n",
    "plt.show()"
   ]
  },
  {
   "cell_type": "markdown",
   "id": "c6285371",
   "metadata": {},
   "source": [
    "Trying to find the average salary and no of time that skills appears in the job description for each job title "
   ]
  },
  {
   "cell_type": "code",
   "execution_count": 23,
   "id": "a22aea04",
   "metadata": {},
   "outputs": [],
   "source": [
    "df_pivots = df[['job_title_sim','Python', 'spark', 'aws', 'excel','sql','sas','keras','pytorch','scikit','tensor','hadoop','tableau','bi','flink','mongo','google_an','Avg Salary(K)']]"
   ]
  },
  {
   "cell_type": "code",
   "execution_count": 24,
   "id": "e78d11e8",
   "metadata": {},
   "outputs": [
    {
     "name": "stdout",
     "output_type": "stream",
     "text": [
      "                               Avg Salary(K)              count       \n",
      "Python                                     0           1      0      1\n",
      "job_title_sim                                                         \n",
      "Data scientist project manager     69.833333   83.375000   12.0    4.0\n",
      "analyst                            61.385714   76.790323   70.0   31.0\n",
      "data analitics                     62.500000   73.300000    3.0    5.0\n",
      "data engineer                     105.488095  105.357143   42.0   77.0\n",
      "data modeler                       94.833333   51.500000    3.0    2.0\n",
      "data scientist                    112.315068  120.112500   73.0  240.0\n",
      "director                          130.800000         NaN    5.0    NaN\n",
      "machine learning engineer         124.000000  126.972222    4.0   18.0\n",
      "na                                 78.250000  111.250000    6.0    4.0\n",
      "other scientist                    85.496212  118.772727  132.0   11.0\n",
      "                               Avg Salary(K)              count      \n",
      "spark                                      0           1      0     1\n",
      "job_title_sim                                                        \n",
      "Data scientist project manager     73.218750         NaN   16.0   NaN\n",
      "analyst                            66.452632   60.750000   95.0   6.0\n",
      "data analitics                     69.250000         NaN    8.0   NaN\n",
      "data engineer                     100.096154  109.522388   52.0  67.0\n",
      "data modeler                       74.000000   91.500000    4.0   1.0\n",
      "data scientist                    118.048035  118.964286  229.0  84.0\n",
      "director                          130.800000         NaN    5.0   NaN\n",
      "machine learning engineer         118.777778  160.875000   18.0   4.0\n",
      "na                                 83.200000   99.700000    5.0   5.0\n",
      "other scientist                    88.055944         NaN  143.0   NaN\n",
      "                               Avg Salary(K)              count      \n",
      "aws                                        0           1      0     1\n",
      "job_title_sim                                                        \n",
      "Data scientist project manager     75.500000   57.250000   14.0   2.0\n",
      "analyst                            66.247253   64.900000   91.0  10.0\n",
      "data analitics                     69.250000         NaN    8.0   NaN\n",
      "data engineer                      99.358333  111.550847   60.0  59.0\n",
      "data modeler                       69.833333   89.000000    3.0   2.0\n",
      "data scientist                    115.202991  127.449367  234.0  79.0\n",
      "director                          120.500000  172.000000    4.0   1.0\n",
      "machine learning engineer         128.375000  121.250000   16.0   6.0\n",
      "na                                 79.571429  119.166667    7.0   3.0\n",
      "other scientist                    89.441860   75.285714  129.0  14.0\n",
      "                               Avg Salary(K)             count     \n",
      "excel                                      0           1     0    1\n",
      "job_title_sim                                                      \n",
      "Data scientist project manager     66.000000   76.500000     5   11\n",
      "analyst                            71.125000   64.551948    24   77\n",
      "data analitics                     63.000000   75.500000     4    4\n",
      "data engineer                     109.646154  100.296296    65   54\n",
      "data modeler                      106.500000   70.250000     1    4\n",
      "data scientist                    118.066456  118.525806   158  155\n",
      "director                          124.666667  140.000000     3    2\n",
      "machine learning engineer         137.266667  103.214286    15    7\n",
      "na                                 98.500000   90.666667     1    9\n",
      "other scientist                    79.756410   98.015385    78   65\n",
      "                               Avg Salary(K)              count       \n",
      "sql                                        0           1      0      1\n",
      "job_title_sim                                                         \n",
      "Data scientist project manager     88.300000   66.363636    5.0   11.0\n",
      "analyst                            53.826923   70.373333   26.0   75.0\n",
      "data analitics                     63.500000   75.000000    4.0    4.0\n",
      "data engineer                     109.687500  103.827586   32.0   87.0\n",
      "data modeler                      106.500000   70.250000    1.0    4.0\n",
      "data scientist                    121.843066  115.531250  137.0  176.0\n",
      "director                          130.800000         NaN    5.0    NaN\n",
      "machine learning engineer         113.444444  135.423077    9.0   13.0\n",
      "na                                 93.500000   90.571429    3.0    7.0\n",
      "other scientist                    88.214286   80.666667  140.0    3.0\n",
      "                               Avg Salary(K)              count      \n",
      "sas                                        0           1      0     1\n",
      "job_title_sim                                                        \n",
      "Data scientist project manager     73.218750         NaN   16.0   NaN\n",
      "analyst                            65.261111   73.090909   90.0  11.0\n",
      "data analitics                     70.166667   66.500000    6.0   2.0\n",
      "data engineer                     105.394068  106.500000  118.0   1.0\n",
      "data modeler                       77.500000         NaN    5.0   NaN\n",
      "data scientist                    117.133080  124.400000  263.0  50.0\n",
      "director                          130.800000         NaN    5.0   NaN\n",
      "machine learning engineer         126.431818         NaN   22.0   NaN\n",
      "na                                 91.450000         NaN   10.0   NaN\n",
      "other scientist                    87.595745  120.500000  141.0   2.0\n",
      "                               Avg Salary(K)              count      \n",
      "keras                                      0           1      0     1\n",
      "job_title_sim                                                        \n",
      "Data scientist project manager     73.218750         NaN   16.0   NaN\n",
      "analyst                            66.113861         NaN  101.0   NaN\n",
      "data analitics                     69.250000         NaN    8.0   NaN\n",
      "data engineer                     105.403361         NaN  119.0   NaN\n",
      "data modeler                       77.500000         NaN    5.0   NaN\n",
      "data scientist                    117.816901  122.965517  284.0  29.0\n",
      "director                          130.800000         NaN    5.0   NaN\n",
      "machine learning engineer         126.431818         NaN   22.0   NaN\n",
      "na                                 91.450000         NaN   10.0   NaN\n",
      "other scientist                    88.055944         NaN  143.0   NaN\n",
      "                               Avg Salary(K)              count      \n",
      "pytorch                                    0           1      0     1\n",
      "job_title_sim                                                        \n",
      "Data scientist project manager     73.218750         NaN   16.0   NaN\n",
      "analyst                            66.113861         NaN  101.0   NaN\n",
      "data analitics                     69.250000         NaN    8.0   NaN\n",
      "data engineer                     105.403361         NaN  119.0   NaN\n",
      "data modeler                       77.500000         NaN    5.0   NaN\n",
      "data scientist                    119.780357  105.681818  280.0  33.0\n",
      "director                          130.800000         NaN    5.0   NaN\n",
      "machine learning engineer         126.735294  125.400000   17.0   5.0\n",
      "na                                 91.450000         NaN   10.0   NaN\n",
      "other scientist                    87.823944  121.000000  142.0   1.0\n",
      "                               Avg Salary(K)              count      \n",
      "scikit                                     0           1      0     1\n",
      "job_title_sim                                                        \n",
      "Data scientist project manager     73.218750         NaN   16.0   NaN\n",
      "analyst                            66.113861         NaN  101.0   NaN\n",
      "data analitics                     69.250000         NaN    8.0   NaN\n",
      "data engineer                     105.403361         NaN  119.0   NaN\n",
      "data modeler                       77.500000         NaN    5.0   NaN\n",
      "data scientist                    118.075188  119.531915  266.0  47.0\n",
      "director                          130.800000         NaN    5.0   NaN\n",
      "machine learning engineer         108.833333  164.142857   15.0   7.0\n",
      "na                                 91.450000         NaN   10.0   NaN\n",
      "other scientist                    88.055944         NaN  143.0   NaN\n",
      "                               Avg Salary(K)              count      \n",
      "tensor                                     0           1      0     1\n",
      "job_title_sim                                                        \n",
      "Data scientist project manager     73.218750         NaN   16.0   NaN\n",
      "analyst                            66.113861         NaN  101.0   NaN\n",
      "data analitics                     69.250000         NaN    8.0   NaN\n",
      "data engineer                     104.837607  138.500000  117.0   2.0\n",
      "data modeler                       77.500000         NaN    5.0   NaN\n",
      "data scientist                    118.855731  115.925000  253.0  60.0\n",
      "director                          130.800000         NaN    5.0   NaN\n",
      "machine learning engineer         116.230769  141.166667   13.0   9.0\n",
      "na                                 91.450000         NaN   10.0   NaN\n",
      "other scientist                    87.823944  121.000000  142.0   1.0\n",
      "                               Avg Salary(K)              count      \n",
      "hadoop                                     0           1      0     1\n",
      "job_title_sim                                                        \n",
      "Data scientist project manager     73.218750         NaN   16.0   NaN\n",
      "analyst                            65.948980   71.500000   98.0   3.0\n",
      "data analitics                     69.250000         NaN    8.0   NaN\n",
      "data engineer                     106.652174  103.680000   69.0  50.0\n",
      "data modeler                       74.000000   91.500000    4.0   1.0\n",
      "data scientist                    117.365613  122.208333  253.0  60.0\n",
      "director                          130.800000         NaN    5.0   NaN\n",
      "machine learning engineer         134.444444   90.375000   18.0   4.0\n",
      "na                                 92.000000   91.083333    4.0   6.0\n",
      "other scientist                    88.055944         NaN  143.0   NaN\n",
      "                               Avg Salary(K)              count      \n",
      "tableau                                    0           1      0     1\n",
      "job_title_sim                                                        \n",
      "Data scientist project manager     74.125000   72.916667    4.0  12.0\n",
      "analyst                            62.950820   70.937500   61.0  40.0\n",
      "data analitics                     60.000000   78.500000    4.0   4.0\n",
      "data engineer                     105.805556  101.454545  108.0  11.0\n",
      "data modeler                       77.500000         NaN    5.0   NaN\n",
      "data scientist                    120.111814  112.625000  237.0  76.0\n",
      "director                          130.800000         NaN    5.0   NaN\n",
      "machine learning engineer         126.431818         NaN   22.0   NaN\n",
      "na                                 85.400000   97.500000    5.0   5.0\n",
      "other scientist                    88.055944         NaN  143.0   NaN\n",
      "                               Avg Salary(K)              count      \n",
      "bi                                         0           1      0     1\n",
      "job_title_sim                                                        \n",
      "Data scientist project manager     68.035714  109.500000   14.0   2.0\n",
      "analyst                            65.869048   67.323529   84.0  17.0\n",
      "data analitics                     70.166667   66.500000    6.0   2.0\n",
      "data engineer                     105.961207   83.833333  116.0   3.0\n",
      "data modeler                       94.833333   51.500000    3.0   2.0\n",
      "data scientist                    118.524561  115.946429  285.0  28.0\n",
      "director                          130.800000         NaN    5.0   NaN\n",
      "machine learning engineer         126.431818         NaN   22.0   NaN\n",
      "na                                 81.937500  129.500000    8.0   2.0\n",
      "other scientist                    88.055944         NaN  143.0   NaN\n",
      "                               Avg Salary(K)              count     \n",
      "flink                                      0           1      0    1\n",
      "job_title_sim                                                       \n",
      "Data scientist project manager     73.218750         NaN   16.0  NaN\n",
      "analyst                            66.113861         NaN  101.0  NaN\n",
      "data analitics                     69.250000         NaN    8.0  NaN\n",
      "data engineer                     104.831858  116.166667  113.0  6.0\n",
      "data modeler                       77.500000         NaN    5.0  NaN\n",
      "data scientist                    117.906149  148.250000  309.0  4.0\n",
      "director                          130.800000         NaN    5.0  NaN\n",
      "machine learning engineer         126.431818         NaN   22.0  NaN\n",
      "na                                 91.450000         NaN   10.0  NaN\n",
      "other scientist                    88.055944         NaN  143.0  NaN\n",
      "                               Avg Salary(K)              count      \n",
      "mongo                                      0           1      0     1\n",
      "job_title_sim                                                        \n",
      "Data scientist project manager     73.218750         NaN   16.0   NaN\n",
      "analyst                            64.719388  111.666667   98.0   3.0\n",
      "data analitics                     69.250000         NaN    8.0   NaN\n",
      "data engineer                     103.273585  122.769231  106.0  13.0\n",
      "data modeler                       77.500000         NaN    5.0   NaN\n",
      "data scientist                    118.755102  111.157895  294.0  19.0\n",
      "director                          130.800000         NaN    5.0   NaN\n",
      "machine learning engineer         126.431818         NaN   22.0   NaN\n",
      "na                                 96.687500   70.500000    8.0   2.0\n",
      "other scientist                    88.055944         NaN  143.0   NaN\n",
      "                               Avg Salary(K)              count      \n",
      "google_an                                  0           1      0     1\n",
      "job_title_sim                                                        \n",
      "Data scientist project manager     73.218750         NaN   16.0   NaN\n",
      "analyst                            67.133333   57.772727   90.0  11.0\n",
      "data analitics                     69.250000         NaN    8.0   NaN\n",
      "data engineer                     105.403361         NaN  119.0   NaN\n",
      "data modeler                       77.500000         NaN    5.0   NaN\n",
      "data scientist                    118.409677  106.333333  310.0   3.0\n",
      "director                          130.800000         NaN    5.0   NaN\n",
      "machine learning engineer         126.431818         NaN   22.0   NaN\n",
      "na                                 91.450000         NaN   10.0   NaN\n",
      "other scientist                    88.055944         NaN  143.0   NaN\n"
     ]
    }
   ],
   "source": [
    "skills = ['Python', 'spark', 'aws', 'excel','sql','sas','keras','pytorch','scikit','tensor','hadoop','tableau','bi','flink','mongo','google_an']\n",
    "for i in skills:\n",
    "  a = pd.pivot_table(df_pivots, index = 'job_title_sim', columns = i, values = 'Avg Salary(K)', aggfunc = ['mean','count']).rename(columns={\"mean\":\"Avg Salary(K)\"})\n",
    "  print(a)"
   ]
  },
  {
   "cell_type": "markdown",
   "id": "7fa8cc28",
   "metadata": {},
   "source": [
    "# From the above results Python is mentioned that it pays more "
   ]
  }
 ],
 "metadata": {
  "kernelspec": {
   "display_name": "Python 3 (ipykernel)",
   "language": "python",
   "name": "python3"
  },
  "language_info": {
   "codemirror_mode": {
    "name": "ipython",
    "version": 3
   },
   "file_extension": ".py",
   "mimetype": "text/x-python",
   "name": "python",
   "nbconvert_exporter": "python",
   "pygments_lexer": "ipython3",
   "version": "3.9.12"
  }
 },
 "nbformat": 4,
 "nbformat_minor": 5
}


